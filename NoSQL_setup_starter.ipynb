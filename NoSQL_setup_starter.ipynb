{
 "cells": [
  {
   "cell_type": "markdown",
   "id": "9a57c4c6",
   "metadata": {},
   "source": [
    "# Eat Safe, Love"
   ]
  },
  {
   "cell_type": "markdown",
   "id": "064ef857",
   "metadata": {},
   "source": [
    "## Part 1: Database and Jupyter Notebook Set Up"
   ]
  },
  {
   "cell_type": "markdown",
   "id": "664e3c1f",
   "metadata": {},
   "source": [
    "Import the data provided in the `establishments.json` file from your Terminal. Name the database `uk_food` and the collection `establishments`.\n",
    "\n",
    "Within this markdown cell, copy the line of text you used to import the data from your Terminal. This way, future analysts will be able to repeat your process.\n",
    "\n",
    "e.g.: Import the dataset with `'mongoimport --type json -d uk_food -c establishments --drop --jsonArray establishments.json'`"
   ]
  },
  {
   "cell_type": "code",
   "execution_count": 1,
   "id": "3ecdd008",
   "metadata": {},
   "outputs": [],
   "source": [
    "# Import dependencies\n",
    "from pymongo import MongoClient\n",
    "from pprint import pprint"
   ]
  },
  {
   "cell_type": "code",
   "execution_count": 2,
   "id": "59390c4a",
   "metadata": {},
   "outputs": [],
   "source": [
    "# Create an instance of MongoClient\n",
    "mongo = MongoClient(port=27017)"
   ]
  },
  {
   "cell_type": "code",
   "execution_count": 3,
   "id": "7f9ececa",
   "metadata": {},
   "outputs": [
    {
     "data": {
      "text/plain": [
       "['activityDB',\n",
       " 'admin',\n",
       " 'autosaurus',\n",
       " 'canadiangeese',\n",
       " 'classDB_2',\n",
       " 'config',\n",
       " 'epa',\n",
       " 'fruits_db',\n",
       " 'fruits_db_2',\n",
       " 'gardenDB',\n",
       " 'local',\n",
       " 'met',\n",
       " 'mynewDB',\n",
       " 'travelDB',\n",
       " 'traveldb_2',\n",
       " 'uk_food']"
      ]
     },
     "execution_count": 3,
     "metadata": {},
     "output_type": "execute_result"
    }
   ],
   "source": [
    "# confirm that our new database was created\n",
    "mongo.list_database_names()"
   ]
  },
  {
   "cell_type": "code",
   "execution_count": 4,
   "id": "71e373c1",
   "metadata": {},
   "outputs": [],
   "source": [
    "# assign the uk_food database to a variable name\n",
    "db = mongo['uk_food']"
   ]
  },
  {
   "cell_type": "code",
   "execution_count": 5,
   "id": "ef1b89ed",
   "metadata": {},
   "outputs": [
    {
     "data": {
      "text/plain": [
       "['establishments']"
      ]
     },
     "execution_count": 5,
     "metadata": {},
     "output_type": "execute_result"
    }
   ],
   "source": [
    "# review the collections in our new database\n",
    "db.list_collection_names()"
   ]
  },
  {
   "cell_type": "code",
   "execution_count": 6,
   "id": "18ab463c",
   "metadata": {},
   "outputs": [
    {
     "name": "stdout",
     "output_type": "stream",
     "text": [
      "['establishments']\n"
     ]
    }
   ],
   "source": [
    "# review the collections in our new database\n",
    "print(db.list_collection_names())"
   ]
  },
  {
   "cell_type": "code",
   "execution_count": 7,
   "id": "909d9773",
   "metadata": {},
   "outputs": [],
   "source": [
    "# assign the collection to a variable\n",
    "establishments = db.establishments"
   ]
  },
  {
   "cell_type": "code",
   "execution_count": 8,
   "id": "6a0d92df",
   "metadata": {},
   "outputs": [
    {
     "data": {
      "text/plain": [
       "{'_id': ObjectId('64ff790fe1c60033caf568ac'),\n",
       " 'FHRSID': 1290215,\n",
       " 'ChangesByServerID': 0,\n",
       " 'LocalAuthorityBusinessID': 'PI/000083029',\n",
       " 'BusinessName': 'FirstLight Bar & Café',\n",
       " 'BusinessType': 'Restaurant/Cafe/Canteen',\n",
       " 'BusinessTypeID': 1,\n",
       " 'AddressLine1': '1 The Droveway',\n",
       " 'AddressLine2': 'St Margarets Bay',\n",
       " 'AddressLine3': 'Kent',\n",
       " 'AddressLine4': '',\n",
       " 'PostCode': 'CT15 6DH',\n",
       " 'Phone': '',\n",
       " 'RatingValue': '5',\n",
       " 'RatingKey': 'fhrs_5_en-gb',\n",
       " 'RatingDate': '2020-11-09T00:00:00',\n",
       " 'LocalAuthorityCode': '182',\n",
       " 'LocalAuthorityName': 'Dover',\n",
       " 'LocalAuthorityWebSite': 'http://www.dover.gov.uk/',\n",
       " 'LocalAuthorityEmailAddress': 'publicprotection@dover.gov.uk',\n",
       " 'scores': {'Hygiene': 5, 'Structural': 5, 'ConfidenceInManagement': 5},\n",
       " 'SchemeType': 'FHRS',\n",
       " 'geocode': {'longitude': '1.378231', 'latitude': '51.150625'},\n",
       " 'RightToReply': '',\n",
       " 'Distance': 4587.64041272672,\n",
       " 'NewRatingPending': False,\n",
       " 'meta': {'dataSource': None,\n",
       "  'extractDate': '0001-01-01T00:00:00',\n",
       "  'itemCount': 0,\n",
       "  'returncode': None,\n",
       "  'totalCount': 0,\n",
       "  'totalPages': 0,\n",
       "  'pageSize': 0,\n",
       "  'pageNumber': 0},\n",
       " 'links': [{'rel': 'self',\n",
       "   'href': 'https://api.ratings.food.gov.uk/establishments/1290215'}]}"
      ]
     },
     "execution_count": 8,
     "metadata": {},
     "output_type": "execute_result"
    }
   ],
   "source": [
    "# review a document in the establishments collection\n",
    "establishments.find_one()"
   ]
  },
  {
   "cell_type": "markdown",
   "id": "d5671434",
   "metadata": {},
   "source": [
    "## Part 2: Update the Database"
   ]
  },
  {
   "cell_type": "markdown",
   "id": "314bd884",
   "metadata": {},
   "source": [
    "1. An exciting new halal restaurant just opened in Greenwich, but hasn't been rated yet. The magazine has asked you to include it in your analysis. Add the following restaurant \"Penang Flavours\" to the database."
   ]
  },
  {
   "cell_type": "code",
   "execution_count": 9,
   "id": "c2da7648",
   "metadata": {},
   "outputs": [],
   "source": [
    "# Create a dictionary for the new restaurant data\n",
    "new_restaurant = {\n",
    "    \"BusinessName\":\"Penang Flavours\",\n",
    "    \"BusinessType\":\"Restaurant/Cafe/Canteen\",\n",
    "    \"BusinessTypeID\":\"\",\n",
    "    \"AddressLine1\":\"Penang Flavours\",\n",
    "    \"AddressLine2\":\"146A Plumstead Rd\",\n",
    "    \"AddressLine3\":\"London\",\n",
    "    \"AddressLine4\":\"\",\n",
    "    \"PostCode\":\"SE18 7DY\",\n",
    "    \"Phone\":\"\",\n",
    "    \"LocalAuthorityCode\":\"511\",\n",
    "    \"LocalAuthorityName\":\"Greenwich\",\n",
    "    \"LocalAuthorityWebSite\":\"http://www.royalgreenwich.gov.uk\",\n",
    "    \"LocalAuthorityEmailAddress\":\"health@royalgreenwich.gov.uk\",\n",
    "    \"scores\":{\n",
    "        \"Hygiene\":\"\",\n",
    "        \"Structural\":\"\",\n",
    "        \"ConfidenceInManagement\":\"\"\n",
    "    },\n",
    "    \"SchemeType\":\"FHRS\",\n",
    "    \"geocode\":{\n",
    "        \"longitude\":\"0.08384000\",\n",
    "        \"latitude\":\"51.49014200\"\n",
    "    },\n",
    "    \"RightToReply\":\"\",\n",
    "    \"Distance\":4623.9723280747176,\n",
    "    \"NewRatingPending\":True\n",
    "}"
   ]
  },
  {
   "cell_type": "code",
   "execution_count": 10,
   "id": "a6e5cece",
   "metadata": {},
   "outputs": [
    {
     "data": {
      "text/plain": [
       "<pymongo.results.InsertOneResult at 0x106072b90>"
      ]
     },
     "execution_count": 10,
     "metadata": {},
     "output_type": "execute_result"
    }
   ],
   "source": [
    "# Insert the new restaurant into the collection\n",
    "establishments.insert_one(new_restaurant)"
   ]
  },
  {
   "cell_type": "code",
   "execution_count": 11,
   "id": "63bb10f9",
   "metadata": {},
   "outputs": [
    {
     "name": "stdout",
     "output_type": "stream",
     "text": [
      "{'AddressLine1': 'Penang Flavours',\n",
      " 'AddressLine2': '146A Plumstead Rd',\n",
      " 'AddressLine3': 'London',\n",
      " 'AddressLine4': '',\n",
      " 'BusinessName': 'Penang Flavours',\n",
      " 'BusinessType': 'Restaurant/Cafe/Canteen',\n",
      " 'BusinessTypeID': '',\n",
      " 'Distance': 4623.972328074718,\n",
      " 'LocalAuthorityCode': '511',\n",
      " 'LocalAuthorityEmailAddress': 'health@royalgreenwich.gov.uk',\n",
      " 'LocalAuthorityName': 'Greenwich',\n",
      " 'LocalAuthorityWebSite': 'http://www.royalgreenwich.gov.uk',\n",
      " 'NewRatingPending': True,\n",
      " 'Phone': '',\n",
      " 'PostCode': 'SE18 7DY',\n",
      " 'RightToReply': '',\n",
      " 'SchemeType': 'FHRS',\n",
      " '_id': ObjectId('64ff793321f1734d009df3c2'),\n",
      " 'geocode': {'latitude': '51.49014200', 'longitude': '0.08384000'},\n",
      " 'scores': {'ConfidenceInManagement': '', 'Hygiene': '', 'Structural': ''}}\n"
     ]
    }
   ],
   "source": [
    "# Check that the new restaurant was inserted\n",
    "results = establishments.find({\"BusinessName\":\"Penang Flavours\"})\n",
    "for result in results:\n",
    "    pprint(result)"
   ]
  },
  {
   "cell_type": "markdown",
   "id": "0ef4395a",
   "metadata": {},
   "source": [
    "2. Find the BusinessTypeID for \"Restaurant/Cafe/Canteen\" and return only the `BusinessTypeID` and `BusinessType` fields."
   ]
  },
  {
   "cell_type": "code",
   "execution_count": 12,
   "id": "93c63829",
   "metadata": {},
   "outputs": [
    {
     "name": "stdout",
     "output_type": "stream",
     "text": [
      "Restaurant/Cafe/Canteen\n",
      "1\n"
     ]
    }
   ],
   "source": [
    "# Find the BusinessTypeID for \"Restaurant/Cafe/Canteen\" and return only the BusinessTypeID and BusinessType fields\n",
    "results = establishments.find({\"BusinessType\":\"Restaurant/Cafe/Canteen\"})\n",
    "\n",
    "print(results[0][\"BusinessType\"])\n",
    "print(results[0][\"BusinessTypeID\"])"
   ]
  },
  {
   "cell_type": "markdown",
   "id": "4e570caf",
   "metadata": {},
   "source": [
    "3. Update the new restaurant with the `BusinessTypeID` you found."
   ]
  },
  {
   "cell_type": "code",
   "execution_count": 13,
   "id": "7f599f3d",
   "metadata": {},
   "outputs": [
    {
     "data": {
      "text/plain": [
       "<pymongo.results.UpdateResult at 0x106073730>"
      ]
     },
     "execution_count": 13,
     "metadata": {},
     "output_type": "execute_result"
    }
   ],
   "source": [
    "# Update the new restaurant with the correct BusinessTypeID\n",
    "\n",
    "new_value = {\"$set\": {'BusinessTypeID':1}}\n",
    "establishments.update_one({\"BusinessName\":\"Penang Flavours\"}, new_value)\n"
   ]
  },
  {
   "cell_type": "code",
   "execution_count": 14,
   "id": "a6ad16f7",
   "metadata": {},
   "outputs": [
    {
     "name": "stdout",
     "output_type": "stream",
     "text": [
      "{'AddressLine1': 'Penang Flavours',\n",
      " 'AddressLine2': '146A Plumstead Rd',\n",
      " 'AddressLine3': 'London',\n",
      " 'AddressLine4': '',\n",
      " 'BusinessName': 'Penang Flavours',\n",
      " 'BusinessType': 'Restaurant/Cafe/Canteen',\n",
      " 'BusinessTypeID': 1,\n",
      " 'Distance': 4623.972328074718,\n",
      " 'LocalAuthorityCode': '511',\n",
      " 'LocalAuthorityEmailAddress': 'health@royalgreenwich.gov.uk',\n",
      " 'LocalAuthorityName': 'Greenwich',\n",
      " 'LocalAuthorityWebSite': 'http://www.royalgreenwich.gov.uk',\n",
      " 'NewRatingPending': True,\n",
      " 'Phone': '',\n",
      " 'PostCode': 'SE18 7DY',\n",
      " 'RightToReply': '',\n",
      " 'SchemeType': 'FHRS',\n",
      " '_id': ObjectId('64ff793321f1734d009df3c2'),\n",
      " 'geocode': {'latitude': '51.49014200', 'longitude': '0.08384000'},\n",
      " 'scores': {'ConfidenceInManagement': '', 'Hygiene': '', 'Structural': ''}}\n"
     ]
    }
   ],
   "source": [
    "#####################\n",
    "# Confirm that the new restaurant was updated\n",
    "results = establishments.find({\"BusinessName\":\"Penang Flavours\"})\n",
    "for result in results:\n",
    "    pprint(result)"
   ]
  },
  {
   "cell_type": "markdown",
   "id": "67281254",
   "metadata": {},
   "source": [
    "4. The magazine is not interested in any establishments in Dover, so check how many documents contain the Dover Local Authority. Then, remove any establishments within the Dover Local Authority from the database, and check the number of documents to ensure they were deleted."
   ]
  },
  {
   "cell_type": "code",
   "execution_count": 15,
   "id": "fba046f2",
   "metadata": {},
   "outputs": [
    {
     "data": {
      "text/plain": [
       "39780"
      ]
     },
     "execution_count": 15,
     "metadata": {},
     "output_type": "execute_result"
    }
   ],
   "source": [
    "# counting all documents\n",
    "all_documents = establishments.find()\n",
    "all_documents_count = [each for each in all_documents]\n",
    "len(all_documents_count)"
   ]
  },
  {
   "cell_type": "code",
   "execution_count": 16,
   "id": "768474a6",
   "metadata": {},
   "outputs": [
    {
     "data": {
      "text/plain": [
       "994"
      ]
     },
     "execution_count": 16,
     "metadata": {},
     "output_type": "execute_result"
    }
   ],
   "source": [
    "# Find how many documents have LocalAuthorityName as \"Dover\"\n",
    "dover = establishments.find({\"LocalAuthorityName\":\"Dover\"})\n",
    "dover_establishments = [each for each in dover]\n",
    "len(dover_establishments)"
   ]
  },
  {
   "cell_type": "code",
   "execution_count": 17,
   "id": "a11d5f1b",
   "metadata": {},
   "outputs": [
    {
     "data": {
      "text/plain": [
       "<pymongo.results.DeleteResult at 0x124179930>"
      ]
     },
     "execution_count": 17,
     "metadata": {},
     "output_type": "execute_result"
    }
   ],
   "source": [
    "# Delete all documents where LocalAuthorityName is \"Dover\"\n",
    "establishments.delete_many({\"LocalAuthorityName\":\"Dover\"})"
   ]
  },
  {
   "cell_type": "code",
   "execution_count": 18,
   "id": "2a51aba0",
   "metadata": {},
   "outputs": [
    {
     "data": {
      "text/plain": [
       "0"
      ]
     },
     "execution_count": 18,
     "metadata": {},
     "output_type": "execute_result"
    }
   ],
   "source": [
    "# Check if any remaining documents include Dover\n",
    "dover = establishments.find({\"LocalAuthorityName\":\"Dover\"})\n",
    "dover_establishments = [each for each in dover]\n",
    "len(dover_establishments)"
   ]
  },
  {
   "cell_type": "code",
   "execution_count": 19,
   "id": "8c356f7b",
   "metadata": {},
   "outputs": [
    {
     "data": {
      "text/plain": [
       "{'_id': ObjectId('64ff790fe1c60033caf56b91'),\n",
       " 'FHRSID': 1043695,\n",
       " 'ChangesByServerID': 0,\n",
       " 'LocalAuthorityBusinessID': 'PI/000073616',\n",
       " 'BusinessName': 'The Pavilion',\n",
       " 'BusinessType': 'Restaurant/Cafe/Canteen',\n",
       " 'BusinessTypeID': 1,\n",
       " 'AddressLine1': 'East Cliff Pavilion',\n",
       " 'AddressLine2': 'Wear Bay Road',\n",
       " 'AddressLine3': 'Folkestone',\n",
       " 'AddressLine4': 'Kent',\n",
       " 'PostCode': 'CT19 6BL',\n",
       " 'Phone': '',\n",
       " 'RatingValue': '5',\n",
       " 'RatingKey': 'fhrs_5_en-gb',\n",
       " 'RatingDate': '2018-04-04T00:00:00',\n",
       " 'LocalAuthorityCode': '188',\n",
       " 'LocalAuthorityName': 'Folkestone and Hythe',\n",
       " 'LocalAuthorityWebSite': 'http://www.folkestone-hythe.gov.uk',\n",
       " 'LocalAuthorityEmailAddress': 'foodteam@folkestone-hythe.gov.uk',\n",
       " 'scores': {'Hygiene': 5, 'Structural': 5, 'ConfidenceInManagement': 5},\n",
       " 'SchemeType': 'FHRS',\n",
       " 'geocode': {'longitude': '1.195625', 'latitude': '51.083812'},\n",
       " 'RightToReply': '',\n",
       " 'Distance': 4591.765489457773,\n",
       " 'NewRatingPending': False,\n",
       " 'meta': {'dataSource': None,\n",
       "  'extractDate': '0001-01-01T00:00:00',\n",
       "  'itemCount': 0,\n",
       "  'returncode': None,\n",
       "  'totalCount': 0,\n",
       "  'totalPages': 0,\n",
       "  'pageSize': 0,\n",
       "  'pageNumber': 0},\n",
       " 'links': [{'rel': 'self',\n",
       "   'href': 'https://api.ratings.food.gov.uk/establishments/1043695'}]}"
      ]
     },
     "execution_count": 19,
     "metadata": {},
     "output_type": "execute_result"
    }
   ],
   "source": [
    "# Check that other documents remain with 'find_one'\n",
    "establishments.find_one()"
   ]
  },
  {
   "cell_type": "code",
   "execution_count": 20,
   "id": "fa2a2cb3",
   "metadata": {},
   "outputs": [
    {
     "data": {
      "text/plain": [
       "38786"
      ]
     },
     "execution_count": 20,
     "metadata": {},
     "output_type": "execute_result"
    }
   ],
   "source": [
    "# counting all documents again to verify all dover establishments were removed\n",
    "all_documents = establishments.find()\n",
    "all_documents_count = [each for each in all_documents]\n",
    "len(all_documents_count)"
   ]
  },
  {
   "attachments": {},
   "cell_type": "markdown",
   "id": "e9f1662d",
   "metadata": {},
   "source": [
    "5. Some of the number values are stored as strings, when they should be stored as numbers."
   ]
  },
  {
   "attachments": {},
   "cell_type": "markdown",
   "id": "c46df2df",
   "metadata": {},
   "source": [
    "Use `update_many` to convert `latitude` and `longitude` to decimal numbers."
   ]
  },
  {
   "cell_type": "code",
   "execution_count": 21,
   "id": "fd4112ce",
   "metadata": {},
   "outputs": [
    {
     "data": {
      "text/plain": [
       "<pymongo.results.UpdateResult at 0x10b8a4d60>"
      ]
     },
     "execution_count": 21,
     "metadata": {},
     "output_type": "execute_result"
    }
   ],
   "source": [
    "# Change the data type from String to Decimal for longitude and latitude\n",
    "establishments.update_many({}, [{'$set': {'geocode.longitude' : {'$toDouble' : '$geocode.longitude'},\n",
    "                                           'geocode.latitude' : {'$toDouble' : '$geocode.latitude'}\n",
    "                                           }\n",
    "                                    }]\n",
    "                            )"
   ]
  },
  {
   "attachments": {},
   "cell_type": "markdown",
   "id": "142e319c",
   "metadata": {},
   "source": [
    "Use `update_many` to convert `RatingValue` to integer numbers."
   ]
  },
  {
   "cell_type": "code",
   "execution_count": 22,
   "id": "04430a5b",
   "metadata": {},
   "outputs": [
    {
     "data": {
      "text/plain": [
       "<pymongo.results.UpdateResult at 0x10b8a4be0>"
      ]
     },
     "execution_count": 22,
     "metadata": {},
     "output_type": "execute_result"
    }
   ],
   "source": [
    "# Set non 1-5 Rating Values to Null\n",
    "non_ratings = [\"AwaitingInspection\", \"Awaiting Inspection\", \"AwaitingPublication\", \"Pass\", \"Exempt\"]\n",
    "establishments.update_many({\"RatingValue\": {\"$in\": non_ratings}}, [ {'$set':{ \"RatingValue\" : None}} ])"
   ]
  },
  {
   "cell_type": "code",
   "execution_count": 23,
   "id": "92524ccc",
   "metadata": {},
   "outputs": [
    {
     "data": {
      "text/plain": [
       "<pymongo.results.UpdateResult at 0x10b8a5540>"
      ]
     },
     "execution_count": 23,
     "metadata": {},
     "output_type": "execute_result"
    }
   ],
   "source": [
    "# Change the data type from String to Integer for RatingValue\n",
    "establishments.update_many({}, [{'$set': {'RatingValue' : {'$toInt' : '$RatingValue'},\n",
    "                                           }\n",
    "                                    }]\n",
    "                            )"
   ]
  },
  {
   "cell_type": "code",
   "execution_count": 24,
   "id": "0deacaf9",
   "metadata": {},
   "outputs": [
    {
     "name": "stdout",
     "output_type": "stream",
     "text": [
      "[{'AddressLine1': 'East Cliff Pavilion',\n",
      "  'AddressLine2': 'Wear Bay Road',\n",
      "  'AddressLine3': 'Folkestone',\n",
      "  'AddressLine4': 'Kent',\n",
      "  'BusinessName': 'The Pavilion',\n",
      "  'BusinessType': 'Restaurant/Cafe/Canteen',\n",
      "  'BusinessTypeID': 1,\n",
      "  'ChangesByServerID': 0,\n",
      "  'Distance': 4591.765489457773,\n",
      "  'FHRSID': 1043695,\n",
      "  'LocalAuthorityBusinessID': 'PI/000073616',\n",
      "  'LocalAuthorityCode': '188',\n",
      "  'LocalAuthorityEmailAddress': 'foodteam@folkestone-hythe.gov.uk',\n",
      "  'LocalAuthorityName': 'Folkestone and Hythe',\n",
      "  'LocalAuthorityWebSite': 'http://www.folkestone-hythe.gov.uk',\n",
      "  'NewRatingPending': False,\n",
      "  'Phone': '',\n",
      "  'PostCode': 'CT19 6BL',\n",
      "  'RatingDate': '2018-04-04T00:00:00',\n",
      "  'RatingKey': 'fhrs_5_en-gb',\n",
      "  'RatingValue': 5,\n",
      "  'RightToReply': '',\n",
      "  'SchemeType': 'FHRS',\n",
      "  '_id': ObjectId('64ff790fe1c60033caf56b91'),\n",
      "  'geocode': {'latitude': 51.083812, 'longitude': 1.195625},\n",
      "  'links': [{'href': 'https://api.ratings.food.gov.uk/establishments/1043695',\n",
      "             'rel': 'self'}],\n",
      "  'meta': {'dataSource': None,\n",
      "           'extractDate': '0001-01-01T00:00:00',\n",
      "           'itemCount': 0,\n",
      "           'pageNumber': 0,\n",
      "           'pageSize': 0,\n",
      "           'returncode': None,\n",
      "           'totalCount': 0,\n",
      "           'totalPages': 0},\n",
      "  'scores': {'ConfidenceInManagement': 5, 'Hygiene': 5, 'Structural': 5}},\n",
      " {'AddressLine1': 'Wear Bay Road',\n",
      "  'AddressLine2': 'Folkestone',\n",
      "  'AddressLine3': 'Kent',\n",
      "  'AddressLine4': '',\n",
      "  'BusinessName': 'Wear Bay Bowls Club',\n",
      "  'BusinessType': 'Pub/bar/nightclub',\n",
      "  'BusinessTypeID': 7843,\n",
      "  'ChangesByServerID': 0,\n",
      "  'Distance': 4591.821311183521,\n",
      "  'FHRSID': 647177,\n",
      "  'LocalAuthorityBusinessID': 'PI/000041489',\n",
      "  'LocalAuthorityCode': '188',\n",
      "  'LocalAuthorityEmailAddress': 'foodteam@folkestone-hythe.gov.uk',\n",
      "  'LocalAuthorityName': 'Folkestone and Hythe',\n",
      "  'LocalAuthorityWebSite': 'http://www.folkestone-hythe.gov.uk',\n",
      "  'NewRatingPending': False,\n",
      "  'Phone': '',\n",
      "  'PostCode': 'CT19 6PY',\n",
      "  'RatingDate': '2014-03-31T00:00:00',\n",
      "  'RatingKey': 'fhrs_4_en-gb',\n",
      "  'RatingValue': 4,\n",
      "  'RightToReply': '',\n",
      "  'SchemeType': 'FHRS',\n",
      "  '_id': ObjectId('64ff790fe1c60033caf56b94'),\n",
      "  'geocode': {'latitude': 51.086058, 'longitude': 1.196408},\n",
      "  'links': [{'href': 'https://api.ratings.food.gov.uk/establishments/647177',\n",
      "             'rel': 'self'}],\n",
      "  'meta': {'dataSource': None,\n",
      "           'extractDate': '0001-01-01T00:00:00',\n",
      "           'itemCount': 0,\n",
      "           'pageNumber': 0,\n",
      "           'pageSize': 0,\n",
      "           'returncode': None,\n",
      "           'totalCount': 0,\n",
      "           'totalPages': 0},\n",
      "  'scores': {'ConfidenceInManagement': 10, 'Hygiene': 5, 'Structural': 5}},\n",
      " {'AddressLine1': 'St Marys Church Of England Primary School',\n",
      "  'AddressLine2': 'Warren Road',\n",
      "  'AddressLine3': 'Folkestone',\n",
      "  'AddressLine4': 'Kent',\n",
      "  'BusinessName': 'St Marys COE (aided) Primary School',\n",
      "  'BusinessType': 'School/college/university',\n",
      "  'BusinessTypeID': 7845,\n",
      "  'ChangesByServerID': 0,\n",
      "  'Distance': 4591.871474174837,\n",
      "  'FHRSID': 289353,\n",
      "  'LocalAuthorityBusinessID': 'PI/000002468',\n",
      "  'LocalAuthorityCode': '188',\n",
      "  'LocalAuthorityEmailAddress': 'foodteam@folkestone-hythe.gov.uk',\n",
      "  'LocalAuthorityName': 'Folkestone and Hythe',\n",
      "  'LocalAuthorityWebSite': 'http://www.folkestone-hythe.gov.uk',\n",
      "  'NewRatingPending': False,\n",
      "  'Phone': '',\n",
      "  'PostCode': 'CT19 6QH',\n",
      "  'RatingDate': '2016-09-13T00:00:00',\n",
      "  'RatingKey': 'fhrs_5_en-gb',\n",
      "  'RatingValue': 5,\n",
      "  'RightToReply': '',\n",
      "  'SchemeType': 'FHRS',\n",
      "  '_id': ObjectId('64ff790fe1c60033caf56b95'),\n",
      "  'geocode': {'latitude': 51.085797, 'longitude': 1.194762},\n",
      "  'links': [{'href': 'https://api.ratings.food.gov.uk/establishments/289353',\n",
      "             'rel': 'self'}],\n",
      "  'meta': {'dataSource': None,\n",
      "           'extractDate': '0001-01-01T00:00:00',\n",
      "           'itemCount': 0,\n",
      "           'pageNumber': 0,\n",
      "           'pageSize': 0,\n",
      "           'returncode': None,\n",
      "           'totalCount': 0,\n",
      "           'totalPages': 0},\n",
      "  'scores': {'ConfidenceInManagement': 0, 'Hygiene': 0, 'Structural': 0}},\n",
      " {'AddressLine1': '23 The Stade',\n",
      "  'AddressLine2': 'Folkestone',\n",
      "  'AddressLine3': 'Kent',\n",
      "  'AddressLine4': '',\n",
      "  'BusinessName': 'The Ship',\n",
      "  'BusinessType': 'Pub/bar/nightclub',\n",
      "  'BusinessTypeID': 7843,\n",
      "  'ChangesByServerID': 0,\n",
      "  'Distance': 4591.912144538092,\n",
      "  'FHRSID': 289352,\n",
      "  'LocalAuthorityBusinessID': 'PI/000002460',\n",
      "  'LocalAuthorityCode': '188',\n",
      "  'LocalAuthorityEmailAddress': 'foodteam@folkestone-hythe.gov.uk',\n",
      "  'LocalAuthorityName': 'Folkestone and Hythe',\n",
      "  'LocalAuthorityWebSite': 'http://www.folkestone-hythe.gov.uk',\n",
      "  'NewRatingPending': False,\n",
      "  'Phone': '',\n",
      "  'PostCode': 'CT19 6AB',\n",
      "  'RatingDate': '2015-08-27T00:00:00',\n",
      "  'RatingKey': 'fhrs_5_en-gb',\n",
      "  'RatingValue': 5,\n",
      "  'RightToReply': '',\n",
      "  'SchemeType': 'FHRS',\n",
      "  '_id': ObjectId('64ff790fe1c60033caf56b97'),\n",
      "  'geocode': {'latitude': 51.08084, 'longitude': 1.188537},\n",
      "  'links': [{'href': 'https://api.ratings.food.gov.uk/establishments/289352',\n",
      "             'rel': 'self'}],\n",
      "  'meta': {'dataSource': None,\n",
      "           'extractDate': '0001-01-01T00:00:00',\n",
      "           'itemCount': 0,\n",
      "           'pageNumber': 0,\n",
      "           'pageSize': 0,\n",
      "           'returncode': None,\n",
      "           'totalCount': 0,\n",
      "           'totalPages': 0},\n",
      "  'scores': {'ConfidenceInManagement': 5, 'Hygiene': 5, 'Structural': 5}},\n",
      " {'AddressLine1': '16 The Stade',\n",
      "  'AddressLine2': 'Folkestone',\n",
      "  'AddressLine3': 'Kent',\n",
      "  'AddressLine4': '',\n",
      "  'BusinessName': 'Mariner',\n",
      "  'BusinessType': 'Pub/bar/nightclub',\n",
      "  'BusinessTypeID': 7843,\n",
      "  'ChangesByServerID': 0,\n",
      "  'Distance': 4591.912144538092,\n",
      "  'FHRSID': 289560,\n",
      "  'LocalAuthorityBusinessID': 'PI/000039927',\n",
      "  'LocalAuthorityCode': '188',\n",
      "  'LocalAuthorityEmailAddress': 'foodteam@folkestone-hythe.gov.uk',\n",
      "  'LocalAuthorityName': 'Folkestone and Hythe',\n",
      "  'LocalAuthorityWebSite': 'http://www.folkestone-hythe.gov.uk',\n",
      "  'NewRatingPending': False,\n",
      "  'Phone': '',\n",
      "  'PostCode': 'CT19 6AB',\n",
      "  'RatingDate': '2019-03-19T00:00:00',\n",
      "  'RatingKey': 'fhrs_5_en-gb',\n",
      "  'RatingValue': 5,\n",
      "  'RightToReply': '',\n",
      "  'SchemeType': 'FHRS',\n",
      "  '_id': ObjectId('64ff790fe1c60033caf56b99'),\n",
      "  'geocode': {'latitude': 51.08084, 'longitude': 1.188537},\n",
      "  'links': [{'href': 'https://api.ratings.food.gov.uk/establishments/289560',\n",
      "             'rel': 'self'}],\n",
      "  'meta': {'dataSource': None,\n",
      "           'extractDate': '0001-01-01T00:00:00',\n",
      "           'itemCount': 0,\n",
      "           'pageNumber': 0,\n",
      "           'pageSize': 0,\n",
      "           'returncode': None,\n",
      "           'totalCount': 0,\n",
      "           'totalPages': 0},\n",
      "  'scores': {'ConfidenceInManagement': 0, 'Hygiene': 0, 'Structural': 5}},\n",
      " {'AddressLine1': '1 The Stade',\n",
      "  'AddressLine2': 'Folkestone',\n",
      "  'AddressLine3': 'Kent',\n",
      "  'AddressLine4': '',\n",
      "  'BusinessName': 'Folkestone Trawlers Shop',\n",
      "  'BusinessType': 'Retailers - other',\n",
      "  'BusinessTypeID': 4613,\n",
      "  'ChangesByServerID': 0,\n",
      "  'Distance': 4591.912144538092,\n",
      "  'FHRSID': 344689,\n",
      "  'LocalAuthorityBusinessID': 'PI/000002095',\n",
      "  'LocalAuthorityCode': '188',\n",
      "  'LocalAuthorityEmailAddress': 'foodteam@folkestone-hythe.gov.uk',\n",
      "  'LocalAuthorityName': 'Folkestone and Hythe',\n",
      "  'LocalAuthorityWebSite': 'http://www.folkestone-hythe.gov.uk',\n",
      "  'NewRatingPending': False,\n",
      "  'Phone': '',\n",
      "  'PostCode': 'CT19 6AB',\n",
      "  'RatingDate': '2020-02-14T00:00:00',\n",
      "  'RatingKey': 'fhrs_5_en-gb',\n",
      "  'RatingValue': 5,\n",
      "  'RightToReply': '',\n",
      "  'SchemeType': 'FHRS',\n",
      "  '_id': ObjectId('64ff790fe1c60033caf56b9a'),\n",
      "  'geocode': {'latitude': 51.08084, 'longitude': 1.188537},\n",
      "  'links': [{'href': 'https://api.ratings.food.gov.uk/establishments/344689',\n",
      "             'rel': 'self'}],\n",
      "  'meta': {'dataSource': None,\n",
      "           'extractDate': '0001-01-01T00:00:00',\n",
      "           'itemCount': 0,\n",
      "           'pageNumber': 0,\n",
      "           'pageSize': 0,\n",
      "           'returncode': None,\n",
      "           'totalCount': 0,\n",
      "           'totalPages': 0},\n",
      "  'scores': {'ConfidenceInManagement': 5, 'Hygiene': 0, 'Structural': 5}},\n",
      " {'AddressLine1': 'Folkestone Harbour',\n",
      "  'AddressLine2': 'Harbour Approach Road',\n",
      "  'AddressLine3': 'Folkestone',\n",
      "  'AddressLine4': 'Kent',\n",
      "  'BusinessName': 'Docker',\n",
      "  'BusinessType': 'Retailers - other',\n",
      "  'BusinessTypeID': 4613,\n",
      "  'ChangesByServerID': 0,\n",
      "  'Distance': 4591.914705329384,\n",
      "  'FHRSID': 894592,\n",
      "  'LocalAuthorityBusinessID': 'PI/000074396',\n",
      "  'LocalAuthorityCode': '188',\n",
      "  'LocalAuthorityEmailAddress': 'foodteam@folkestone-hythe.gov.uk',\n",
      "  'LocalAuthorityName': 'Folkestone and Hythe',\n",
      "  'LocalAuthorityWebSite': 'http://www.folkestone-hythe.gov.uk',\n",
      "  'NewRatingPending': False,\n",
      "  'Phone': '',\n",
      "  'PostCode': '',\n",
      "  'RatingDate': '2018-04-18T00:00:00',\n",
      "  'RatingKey': 'fhrs_5_en-gb',\n",
      "  'RatingValue': 5,\n",
      "  'RightToReply': '',\n",
      "  'SchemeType': 'FHRS',\n",
      "  '_id': ObjectId('64ff790fe1c60033caf56b9b'),\n",
      "  'geocode': {'latitude': 51.0783519967076, 'longitude': 1.18590330311705},\n",
      "  'links': [{'href': 'https://api.ratings.food.gov.uk/establishments/894592',\n",
      "             'rel': 'self'}],\n",
      "  'meta': {'dataSource': None,\n",
      "           'extractDate': '0001-01-01T00:00:00',\n",
      "           'itemCount': 0,\n",
      "           'pageNumber': 0,\n",
      "           'pageSize': 0,\n",
      "           'returncode': None,\n",
      "           'totalCount': 0,\n",
      "           'totalPages': 0},\n",
      "  'scores': {'ConfidenceInManagement': 5, 'Hygiene': 0, 'Structural': 0}},\n",
      " {'AddressLine1': 'Folkestone Harbour',\n",
      "  'AddressLine2': 'Harbour Approach Road',\n",
      "  'AddressLine3': 'Folkestone',\n",
      "  'AddressLine4': 'Kent',\n",
      "  'BusinessName': 'Pick Up Pintxos',\n",
      "  'BusinessType': 'Takeaway/sandwich shop',\n",
      "  'BusinessTypeID': 7844,\n",
      "  'ChangesByServerID': 0,\n",
      "  'Distance': 4591.914705329384,\n",
      "  'FHRSID': 1043701,\n",
      "  'LocalAuthorityBusinessID': 'PI/000076360',\n",
      "  'LocalAuthorityCode': '188',\n",
      "  'LocalAuthorityEmailAddress': 'foodteam@folkestone-hythe.gov.uk',\n",
      "  'LocalAuthorityName': 'Folkestone and Hythe',\n",
      "  'LocalAuthorityWebSite': 'http://www.folkestone-hythe.gov.uk',\n",
      "  'NewRatingPending': False,\n",
      "  'Phone': '',\n",
      "  'PostCode': '',\n",
      "  'RatingDate': '2018-04-18T00:00:00',\n",
      "  'RatingKey': 'fhrs_5_en-gb',\n",
      "  'RatingValue': 5,\n",
      "  'RightToReply': '',\n",
      "  'SchemeType': 'FHRS',\n",
      "  '_id': ObjectId('64ff790fe1c60033caf56b9c'),\n",
      "  'geocode': {'latitude': 51.0783519967076, 'longitude': 1.18590330311705},\n",
      "  'links': [{'href': 'https://api.ratings.food.gov.uk/establishments/1043701',\n",
      "             'rel': 'self'}],\n",
      "  'meta': {'dataSource': None,\n",
      "           'extractDate': '0001-01-01T00:00:00',\n",
      "           'itemCount': 0,\n",
      "           'pageNumber': 0,\n",
      "           'pageSize': 0,\n",
      "           'returncode': None,\n",
      "           'totalCount': 0,\n",
      "           'totalPages': 0},\n",
      "  'scores': {'ConfidenceInManagement': 5, 'Hygiene': 5, 'Structural': 5}},\n",
      " {'AddressLine1': 'Folkestone Harbour',\n",
      "  'AddressLine2': 'Harbour Approach Road',\n",
      "  'AddressLine3': 'Folkestone',\n",
      "  'AddressLine4': 'Kent',\n",
      "  'BusinessName': 'That Burger - Harbour Arm',\n",
      "  'BusinessType': 'Takeaway/sandwich shop',\n",
      "  'BusinessTypeID': 7844,\n",
      "  'ChangesByServerID': 0,\n",
      "  'Distance': 4591.914705329384,\n",
      "  'FHRSID': 805703,\n",
      "  'LocalAuthorityBusinessID': 'PI/000073221',\n",
      "  'LocalAuthorityCode': '188',\n",
      "  'LocalAuthorityEmailAddress': 'foodteam@folkestone-hythe.gov.uk',\n",
      "  'LocalAuthorityName': 'Folkestone and Hythe',\n",
      "  'LocalAuthorityWebSite': 'http://www.folkestone-hythe.gov.uk',\n",
      "  'NewRatingPending': False,\n",
      "  'Phone': '',\n",
      "  'PostCode': '',\n",
      "  'RatingDate': '2018-08-17T00:00:00',\n",
      "  'RatingKey': 'fhrs_5_en-gb',\n",
      "  'RatingValue': 5,\n",
      "  'RightToReply': '',\n",
      "  'SchemeType': 'FHRS',\n",
      "  '_id': ObjectId('64ff790fe1c60033caf56b9d'),\n",
      "  'geocode': {'latitude': 51.0783519967076, 'longitude': 1.18590330311705},\n",
      "  'links': [{'href': 'https://api.ratings.food.gov.uk/establishments/805703',\n",
      "             'rel': 'self'}],\n",
      "  'meta': {'dataSource': None,\n",
      "           'extractDate': '0001-01-01T00:00:00',\n",
      "           'itemCount': 0,\n",
      "           'pageNumber': 0,\n",
      "           'pageSize': 0,\n",
      "           'returncode': None,\n",
      "           'totalCount': 0,\n",
      "           'totalPages': 0},\n",
      "  'scores': {'ConfidenceInManagement': 5, 'Hygiene': 5, 'Structural': 5}},\n",
      " {'AddressLine1': 'Folkestone Harbour',\n",
      "  'AddressLine2': 'Harbour Approach Road',\n",
      "  'AddressLine3': 'Folkestone',\n",
      "  'AddressLine4': 'Kent',\n",
      "  'BusinessName': 'The Tea Caddy',\n",
      "  'BusinessType': 'Mobile caterer',\n",
      "  'BusinessTypeID': 7846,\n",
      "  'ChangesByServerID': 0,\n",
      "  'Distance': 4591.914705329384,\n",
      "  'FHRSID': 1068284,\n",
      "  'LocalAuthorityBusinessID': 'PI/000076532',\n",
      "  'LocalAuthorityCode': '188',\n",
      "  'LocalAuthorityEmailAddress': 'foodteam@folkestone-hythe.gov.uk',\n",
      "  'LocalAuthorityName': 'Folkestone and Hythe',\n",
      "  'LocalAuthorityWebSite': 'http://www.folkestone-hythe.gov.uk',\n",
      "  'NewRatingPending': False,\n",
      "  'Phone': '',\n",
      "  'PostCode': '',\n",
      "  'RatingDate': '2018-08-03T00:00:00',\n",
      "  'RatingKey': 'fhrs_5_en-gb',\n",
      "  'RatingValue': 5,\n",
      "  'RightToReply': '',\n",
      "  'SchemeType': 'FHRS',\n",
      "  '_id': ObjectId('64ff790fe1c60033caf56b9e'),\n",
      "  'geocode': {'latitude': 51.0783519967076, 'longitude': 1.18590330311705},\n",
      "  'links': [{'href': 'https://api.ratings.food.gov.uk/establishments/1068284',\n",
      "             'rel': 'self'}],\n",
      "  'meta': {'dataSource': None,\n",
      "           'extractDate': '0001-01-01T00:00:00',\n",
      "           'itemCount': 0,\n",
      "           'pageNumber': 0,\n",
      "           'pageSize': 0,\n",
      "           'returncode': None,\n",
      "           'totalCount': 0,\n",
      "           'totalPages': 0},\n",
      "  'scores': {'ConfidenceInManagement': 5, 'Hygiene': 5, 'Structural': 5}}]\n"
     ]
    }
   ],
   "source": [
    "# Check that the rating value are now numbers\n",
    "# This will populate if the $type of the RatingValue is an integer\n",
    "query = {\"RatingValue\": {'$type' : 'int' }}\n",
    "results = list(establishments.find(query))\n",
    "pprint(results[0:10])\n"
   ]
  },
  {
   "cell_type": "code",
   "execution_count": 27,
   "id": "a3f5dc23",
   "metadata": {},
   "outputs": [
    {
     "name": "stdout",
     "output_type": "stream",
     "text": [
      "[{'AddressLine1': 'East Cliff Pavilion',\n",
      "  'AddressLine2': 'Wear Bay Road',\n",
      "  'AddressLine3': 'Folkestone',\n",
      "  'AddressLine4': 'Kent',\n",
      "  'BusinessName': 'The Pavilion',\n",
      "  'BusinessType': 'Restaurant/Cafe/Canteen',\n",
      "  'BusinessTypeID': 1,\n",
      "  'ChangesByServerID': 0,\n",
      "  'Distance': 4591.765489457773,\n",
      "  'FHRSID': 1043695,\n",
      "  'LocalAuthorityBusinessID': 'PI/000073616',\n",
      "  'LocalAuthorityCode': '188',\n",
      "  'LocalAuthorityEmailAddress': 'foodteam@folkestone-hythe.gov.uk',\n",
      "  'LocalAuthorityName': 'Folkestone and Hythe',\n",
      "  'LocalAuthorityWebSite': 'http://www.folkestone-hythe.gov.uk',\n",
      "  'NewRatingPending': False,\n",
      "  'Phone': '',\n",
      "  'PostCode': 'CT19 6BL',\n",
      "  'RatingDate': '2018-04-04T00:00:00',\n",
      "  'RatingKey': 'fhrs_5_en-gb',\n",
      "  'RatingValue': 5,\n",
      "  'RightToReply': '',\n",
      "  'SchemeType': 'FHRS',\n",
      "  '_id': ObjectId('64ff790fe1c60033caf56b91'),\n",
      "  'geocode': {'latitude': 51.083812, 'longitude': 1.195625},\n",
      "  'links': [{'href': 'https://api.ratings.food.gov.uk/establishments/1043695',\n",
      "             'rel': 'self'}],\n",
      "  'meta': {'dataSource': None,\n",
      "           'extractDate': '0001-01-01T00:00:00',\n",
      "           'itemCount': 0,\n",
      "           'pageNumber': 0,\n",
      "           'pageSize': 0,\n",
      "           'returncode': None,\n",
      "           'totalCount': 0,\n",
      "           'totalPages': 0},\n",
      "  'scores': {'ConfidenceInManagement': 5, 'Hygiene': 5, 'Structural': 5}},\n",
      " {'AddressLine1': 'Wear Bay Road',\n",
      "  'AddressLine2': 'Folkestone',\n",
      "  'AddressLine3': 'Kent',\n",
      "  'AddressLine4': '',\n",
      "  'BusinessName': 'Wear Bay Bowls Club',\n",
      "  'BusinessType': 'Pub/bar/nightclub',\n",
      "  'BusinessTypeID': 7843,\n",
      "  'ChangesByServerID': 0,\n",
      "  'Distance': 4591.821311183521,\n",
      "  'FHRSID': 647177,\n",
      "  'LocalAuthorityBusinessID': 'PI/000041489',\n",
      "  'LocalAuthorityCode': '188',\n",
      "  'LocalAuthorityEmailAddress': 'foodteam@folkestone-hythe.gov.uk',\n",
      "  'LocalAuthorityName': 'Folkestone and Hythe',\n",
      "  'LocalAuthorityWebSite': 'http://www.folkestone-hythe.gov.uk',\n",
      "  'NewRatingPending': False,\n",
      "  'Phone': '',\n",
      "  'PostCode': 'CT19 6PY',\n",
      "  'RatingDate': '2014-03-31T00:00:00',\n",
      "  'RatingKey': 'fhrs_4_en-gb',\n",
      "  'RatingValue': 4,\n",
      "  'RightToReply': '',\n",
      "  'SchemeType': 'FHRS',\n",
      "  '_id': ObjectId('64ff790fe1c60033caf56b94'),\n",
      "  'geocode': {'latitude': 51.086058, 'longitude': 1.196408},\n",
      "  'links': [{'href': 'https://api.ratings.food.gov.uk/establishments/647177',\n",
      "             'rel': 'self'}],\n",
      "  'meta': {'dataSource': None,\n",
      "           'extractDate': '0001-01-01T00:00:00',\n",
      "           'itemCount': 0,\n",
      "           'pageNumber': 0,\n",
      "           'pageSize': 0,\n",
      "           'returncode': None,\n",
      "           'totalCount': 0,\n",
      "           'totalPages': 0},\n",
      "  'scores': {'ConfidenceInManagement': 10, 'Hygiene': 5, 'Structural': 5}},\n",
      " {'AddressLine1': 'St Marys Church Of England Primary School',\n",
      "  'AddressLine2': 'Warren Road',\n",
      "  'AddressLine3': 'Folkestone',\n",
      "  'AddressLine4': 'Kent',\n",
      "  'BusinessName': 'St Marys COE (aided) Primary School',\n",
      "  'BusinessType': 'School/college/university',\n",
      "  'BusinessTypeID': 7845,\n",
      "  'ChangesByServerID': 0,\n",
      "  'Distance': 4591.871474174837,\n",
      "  'FHRSID': 289353,\n",
      "  'LocalAuthorityBusinessID': 'PI/000002468',\n",
      "  'LocalAuthorityCode': '188',\n",
      "  'LocalAuthorityEmailAddress': 'foodteam@folkestone-hythe.gov.uk',\n",
      "  'LocalAuthorityName': 'Folkestone and Hythe',\n",
      "  'LocalAuthorityWebSite': 'http://www.folkestone-hythe.gov.uk',\n",
      "  'NewRatingPending': False,\n",
      "  'Phone': '',\n",
      "  'PostCode': 'CT19 6QH',\n",
      "  'RatingDate': '2016-09-13T00:00:00',\n",
      "  'RatingKey': 'fhrs_5_en-gb',\n",
      "  'RatingValue': 5,\n",
      "  'RightToReply': '',\n",
      "  'SchemeType': 'FHRS',\n",
      "  '_id': ObjectId('64ff790fe1c60033caf56b95'),\n",
      "  'geocode': {'latitude': 51.085797, 'longitude': 1.194762},\n",
      "  'links': [{'href': 'https://api.ratings.food.gov.uk/establishments/289353',\n",
      "             'rel': 'self'}],\n",
      "  'meta': {'dataSource': None,\n",
      "           'extractDate': '0001-01-01T00:00:00',\n",
      "           'itemCount': 0,\n",
      "           'pageNumber': 0,\n",
      "           'pageSize': 0,\n",
      "           'returncode': None,\n",
      "           'totalCount': 0,\n",
      "           'totalPages': 0},\n",
      "  'scores': {'ConfidenceInManagement': 0, 'Hygiene': 0, 'Structural': 0}},\n",
      " {'AddressLine1': '23 The Stade',\n",
      "  'AddressLine2': 'Folkestone',\n",
      "  'AddressLine3': 'Kent',\n",
      "  'AddressLine4': '',\n",
      "  'BusinessName': 'The Ship',\n",
      "  'BusinessType': 'Pub/bar/nightclub',\n",
      "  'BusinessTypeID': 7843,\n",
      "  'ChangesByServerID': 0,\n",
      "  'Distance': 4591.912144538092,\n",
      "  'FHRSID': 289352,\n",
      "  'LocalAuthorityBusinessID': 'PI/000002460',\n",
      "  'LocalAuthorityCode': '188',\n",
      "  'LocalAuthorityEmailAddress': 'foodteam@folkestone-hythe.gov.uk',\n",
      "  'LocalAuthorityName': 'Folkestone and Hythe',\n",
      "  'LocalAuthorityWebSite': 'http://www.folkestone-hythe.gov.uk',\n",
      "  'NewRatingPending': False,\n",
      "  'Phone': '',\n",
      "  'PostCode': 'CT19 6AB',\n",
      "  'RatingDate': '2015-08-27T00:00:00',\n",
      "  'RatingKey': 'fhrs_5_en-gb',\n",
      "  'RatingValue': 5,\n",
      "  'RightToReply': '',\n",
      "  'SchemeType': 'FHRS',\n",
      "  '_id': ObjectId('64ff790fe1c60033caf56b97'),\n",
      "  'geocode': {'latitude': 51.08084, 'longitude': 1.188537},\n",
      "  'links': [{'href': 'https://api.ratings.food.gov.uk/establishments/289352',\n",
      "             'rel': 'self'}],\n",
      "  'meta': {'dataSource': None,\n",
      "           'extractDate': '0001-01-01T00:00:00',\n",
      "           'itemCount': 0,\n",
      "           'pageNumber': 0,\n",
      "           'pageSize': 0,\n",
      "           'returncode': None,\n",
      "           'totalCount': 0,\n",
      "           'totalPages': 0},\n",
      "  'scores': {'ConfidenceInManagement': 5, 'Hygiene': 5, 'Structural': 5}},\n",
      " {'AddressLine1': '16 The Stade',\n",
      "  'AddressLine2': 'Folkestone',\n",
      "  'AddressLine3': 'Kent',\n",
      "  'AddressLine4': '',\n",
      "  'BusinessName': 'Mariner',\n",
      "  'BusinessType': 'Pub/bar/nightclub',\n",
      "  'BusinessTypeID': 7843,\n",
      "  'ChangesByServerID': 0,\n",
      "  'Distance': 4591.912144538092,\n",
      "  'FHRSID': 289560,\n",
      "  'LocalAuthorityBusinessID': 'PI/000039927',\n",
      "  'LocalAuthorityCode': '188',\n",
      "  'LocalAuthorityEmailAddress': 'foodteam@folkestone-hythe.gov.uk',\n",
      "  'LocalAuthorityName': 'Folkestone and Hythe',\n",
      "  'LocalAuthorityWebSite': 'http://www.folkestone-hythe.gov.uk',\n",
      "  'NewRatingPending': False,\n",
      "  'Phone': '',\n",
      "  'PostCode': 'CT19 6AB',\n",
      "  'RatingDate': '2019-03-19T00:00:00',\n",
      "  'RatingKey': 'fhrs_5_en-gb',\n",
      "  'RatingValue': 5,\n",
      "  'RightToReply': '',\n",
      "  'SchemeType': 'FHRS',\n",
      "  '_id': ObjectId('64ff790fe1c60033caf56b99'),\n",
      "  'geocode': {'latitude': 51.08084, 'longitude': 1.188537},\n",
      "  'links': [{'href': 'https://api.ratings.food.gov.uk/establishments/289560',\n",
      "             'rel': 'self'}],\n",
      "  'meta': {'dataSource': None,\n",
      "           'extractDate': '0001-01-01T00:00:00',\n",
      "           'itemCount': 0,\n",
      "           'pageNumber': 0,\n",
      "           'pageSize': 0,\n",
      "           'returncode': None,\n",
      "           'totalCount': 0,\n",
      "           'totalPages': 0},\n",
      "  'scores': {'ConfidenceInManagement': 0, 'Hygiene': 0, 'Structural': 5}},\n",
      " {'AddressLine1': '1 The Stade',\n",
      "  'AddressLine2': 'Folkestone',\n",
      "  'AddressLine3': 'Kent',\n",
      "  'AddressLine4': '',\n",
      "  'BusinessName': 'Folkestone Trawlers Shop',\n",
      "  'BusinessType': 'Retailers - other',\n",
      "  'BusinessTypeID': 4613,\n",
      "  'ChangesByServerID': 0,\n",
      "  'Distance': 4591.912144538092,\n",
      "  'FHRSID': 344689,\n",
      "  'LocalAuthorityBusinessID': 'PI/000002095',\n",
      "  'LocalAuthorityCode': '188',\n",
      "  'LocalAuthorityEmailAddress': 'foodteam@folkestone-hythe.gov.uk',\n",
      "  'LocalAuthorityName': 'Folkestone and Hythe',\n",
      "  'LocalAuthorityWebSite': 'http://www.folkestone-hythe.gov.uk',\n",
      "  'NewRatingPending': False,\n",
      "  'Phone': '',\n",
      "  'PostCode': 'CT19 6AB',\n",
      "  'RatingDate': '2020-02-14T00:00:00',\n",
      "  'RatingKey': 'fhrs_5_en-gb',\n",
      "  'RatingValue': 5,\n",
      "  'RightToReply': '',\n",
      "  'SchemeType': 'FHRS',\n",
      "  '_id': ObjectId('64ff790fe1c60033caf56b9a'),\n",
      "  'geocode': {'latitude': 51.08084, 'longitude': 1.188537},\n",
      "  'links': [{'href': 'https://api.ratings.food.gov.uk/establishments/344689',\n",
      "             'rel': 'self'}],\n",
      "  'meta': {'dataSource': None,\n",
      "           'extractDate': '0001-01-01T00:00:00',\n",
      "           'itemCount': 0,\n",
      "           'pageNumber': 0,\n",
      "           'pageSize': 0,\n",
      "           'returncode': None,\n",
      "           'totalCount': 0,\n",
      "           'totalPages': 0},\n",
      "  'scores': {'ConfidenceInManagement': 5, 'Hygiene': 0, 'Structural': 5}},\n",
      " {'AddressLine1': 'Folkestone Harbour',\n",
      "  'AddressLine2': 'Harbour Approach Road',\n",
      "  'AddressLine3': 'Folkestone',\n",
      "  'AddressLine4': 'Kent',\n",
      "  'BusinessName': 'Docker',\n",
      "  'BusinessType': 'Retailers - other',\n",
      "  'BusinessTypeID': 4613,\n",
      "  'ChangesByServerID': 0,\n",
      "  'Distance': 4591.914705329384,\n",
      "  'FHRSID': 894592,\n",
      "  'LocalAuthorityBusinessID': 'PI/000074396',\n",
      "  'LocalAuthorityCode': '188',\n",
      "  'LocalAuthorityEmailAddress': 'foodteam@folkestone-hythe.gov.uk',\n",
      "  'LocalAuthorityName': 'Folkestone and Hythe',\n",
      "  'LocalAuthorityWebSite': 'http://www.folkestone-hythe.gov.uk',\n",
      "  'NewRatingPending': False,\n",
      "  'Phone': '',\n",
      "  'PostCode': '',\n",
      "  'RatingDate': '2018-04-18T00:00:00',\n",
      "  'RatingKey': 'fhrs_5_en-gb',\n",
      "  'RatingValue': 5,\n",
      "  'RightToReply': '',\n",
      "  'SchemeType': 'FHRS',\n",
      "  '_id': ObjectId('64ff790fe1c60033caf56b9b'),\n",
      "  'geocode': {'latitude': 51.0783519967076, 'longitude': 1.18590330311705},\n",
      "  'links': [{'href': 'https://api.ratings.food.gov.uk/establishments/894592',\n",
      "             'rel': 'self'}],\n",
      "  'meta': {'dataSource': None,\n",
      "           'extractDate': '0001-01-01T00:00:00',\n",
      "           'itemCount': 0,\n",
      "           'pageNumber': 0,\n",
      "           'pageSize': 0,\n",
      "           'returncode': None,\n",
      "           'totalCount': 0,\n",
      "           'totalPages': 0},\n",
      "  'scores': {'ConfidenceInManagement': 5, 'Hygiene': 0, 'Structural': 0}},\n",
      " {'AddressLine1': 'Folkestone Harbour',\n",
      "  'AddressLine2': 'Harbour Approach Road',\n",
      "  'AddressLine3': 'Folkestone',\n",
      "  'AddressLine4': 'Kent',\n",
      "  'BusinessName': 'Pick Up Pintxos',\n",
      "  'BusinessType': 'Takeaway/sandwich shop',\n",
      "  'BusinessTypeID': 7844,\n",
      "  'ChangesByServerID': 0,\n",
      "  'Distance': 4591.914705329384,\n",
      "  'FHRSID': 1043701,\n",
      "  'LocalAuthorityBusinessID': 'PI/000076360',\n",
      "  'LocalAuthorityCode': '188',\n",
      "  'LocalAuthorityEmailAddress': 'foodteam@folkestone-hythe.gov.uk',\n",
      "  'LocalAuthorityName': 'Folkestone and Hythe',\n",
      "  'LocalAuthorityWebSite': 'http://www.folkestone-hythe.gov.uk',\n",
      "  'NewRatingPending': False,\n",
      "  'Phone': '',\n",
      "  'PostCode': '',\n",
      "  'RatingDate': '2018-04-18T00:00:00',\n",
      "  'RatingKey': 'fhrs_5_en-gb',\n",
      "  'RatingValue': 5,\n",
      "  'RightToReply': '',\n",
      "  'SchemeType': 'FHRS',\n",
      "  '_id': ObjectId('64ff790fe1c60033caf56b9c'),\n",
      "  'geocode': {'latitude': 51.0783519967076, 'longitude': 1.18590330311705},\n",
      "  'links': [{'href': 'https://api.ratings.food.gov.uk/establishments/1043701',\n",
      "             'rel': 'self'}],\n",
      "  'meta': {'dataSource': None,\n",
      "           'extractDate': '0001-01-01T00:00:00',\n",
      "           'itemCount': 0,\n",
      "           'pageNumber': 0,\n",
      "           'pageSize': 0,\n",
      "           'returncode': None,\n",
      "           'totalCount': 0,\n",
      "           'totalPages': 0},\n",
      "  'scores': {'ConfidenceInManagement': 5, 'Hygiene': 5, 'Structural': 5}},\n",
      " {'AddressLine1': 'Folkestone Harbour',\n",
      "  'AddressLine2': 'Harbour Approach Road',\n",
      "  'AddressLine3': 'Folkestone',\n",
      "  'AddressLine4': 'Kent',\n",
      "  'BusinessName': 'That Burger - Harbour Arm',\n",
      "  'BusinessType': 'Takeaway/sandwich shop',\n",
      "  'BusinessTypeID': 7844,\n",
      "  'ChangesByServerID': 0,\n",
      "  'Distance': 4591.914705329384,\n",
      "  'FHRSID': 805703,\n",
      "  'LocalAuthorityBusinessID': 'PI/000073221',\n",
      "  'LocalAuthorityCode': '188',\n",
      "  'LocalAuthorityEmailAddress': 'foodteam@folkestone-hythe.gov.uk',\n",
      "  'LocalAuthorityName': 'Folkestone and Hythe',\n",
      "  'LocalAuthorityWebSite': 'http://www.folkestone-hythe.gov.uk',\n",
      "  'NewRatingPending': False,\n",
      "  'Phone': '',\n",
      "  'PostCode': '',\n",
      "  'RatingDate': '2018-08-17T00:00:00',\n",
      "  'RatingKey': 'fhrs_5_en-gb',\n",
      "  'RatingValue': 5,\n",
      "  'RightToReply': '',\n",
      "  'SchemeType': 'FHRS',\n",
      "  '_id': ObjectId('64ff790fe1c60033caf56b9d'),\n",
      "  'geocode': {'latitude': 51.0783519967076, 'longitude': 1.18590330311705},\n",
      "  'links': [{'href': 'https://api.ratings.food.gov.uk/establishments/805703',\n",
      "             'rel': 'self'}],\n",
      "  'meta': {'dataSource': None,\n",
      "           'extractDate': '0001-01-01T00:00:00',\n",
      "           'itemCount': 0,\n",
      "           'pageNumber': 0,\n",
      "           'pageSize': 0,\n",
      "           'returncode': None,\n",
      "           'totalCount': 0,\n",
      "           'totalPages': 0},\n",
      "  'scores': {'ConfidenceInManagement': 5, 'Hygiene': 5, 'Structural': 5}},\n",
      " {'AddressLine1': 'Folkestone Harbour',\n",
      "  'AddressLine2': 'Harbour Approach Road',\n",
      "  'AddressLine3': 'Folkestone',\n",
      "  'AddressLine4': 'Kent',\n",
      "  'BusinessName': 'The Tea Caddy',\n",
      "  'BusinessType': 'Mobile caterer',\n",
      "  'BusinessTypeID': 7846,\n",
      "  'ChangesByServerID': 0,\n",
      "  'Distance': 4591.914705329384,\n",
      "  'FHRSID': 1068284,\n",
      "  'LocalAuthorityBusinessID': 'PI/000076532',\n",
      "  'LocalAuthorityCode': '188',\n",
      "  'LocalAuthorityEmailAddress': 'foodteam@folkestone-hythe.gov.uk',\n",
      "  'LocalAuthorityName': 'Folkestone and Hythe',\n",
      "  'LocalAuthorityWebSite': 'http://www.folkestone-hythe.gov.uk',\n",
      "  'NewRatingPending': False,\n",
      "  'Phone': '',\n",
      "  'PostCode': '',\n",
      "  'RatingDate': '2018-08-03T00:00:00',\n",
      "  'RatingKey': 'fhrs_5_en-gb',\n",
      "  'RatingValue': 5,\n",
      "  'RightToReply': '',\n",
      "  'SchemeType': 'FHRS',\n",
      "  '_id': ObjectId('64ff790fe1c60033caf56b9e'),\n",
      "  'geocode': {'latitude': 51.0783519967076, 'longitude': 1.18590330311705},\n",
      "  'links': [{'href': 'https://api.ratings.food.gov.uk/establishments/1068284',\n",
      "             'rel': 'self'}],\n",
      "  'meta': {'dataSource': None,\n",
      "           'extractDate': '0001-01-01T00:00:00',\n",
      "           'itemCount': 0,\n",
      "           'pageNumber': 0,\n",
      "           'pageSize': 0,\n",
      "           'returncode': None,\n",
      "           'totalCount': 0,\n",
      "           'totalPages': 0},\n",
      "  'scores': {'ConfidenceInManagement': 5, 'Hygiene': 5, 'Structural': 5}}]\n"
     ]
    }
   ],
   "source": [
    "# Check that the coordinates are now numbers\n",
    "# This will populate if the $type of the geocode coordinates is a $double (decimal)\n",
    "\n",
    "# For latitude (uncomment to use code)\n",
    "query = {\"geocode.latitude\": {'$type' : 'double' }}\n",
    "results = list(establishments.find(query))\n",
    "pprint(results[0:10])\n",
    "\n",
    "# For Longitutde (uncomment to use code)\n",
    "# query = {\"geocode.longitude\": {'$type' : 'double' }}\n",
    "# results = list(establishments.find(query))\n",
    "# pprint(results[0:10])\n",
    "\n"
   ]
  },
  {
   "cell_type": "code",
   "execution_count": null,
   "id": "6936b949",
   "metadata": {},
   "outputs": [],
   "source": []
  }
 ],
 "metadata": {
  "kernelspec": {
   "display_name": "Python 3 (ipykernel)",
   "language": "python",
   "name": "python3"
  },
  "language_info": {
   "codemirror_mode": {
    "name": "ipython",
    "version": 3
   },
   "file_extension": ".py",
   "mimetype": "text/x-python",
   "name": "python",
   "nbconvert_exporter": "python",
   "pygments_lexer": "ipython3",
   "version": "3.10.11"
  }
 },
 "nbformat": 4,
 "nbformat_minor": 5
}
